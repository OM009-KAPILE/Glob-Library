{
 "cells": [
  {
   "cell_type": "code",
   "execution_count": 5,
   "id": "1be7e3e6-8ccc-4cfe-a9b7-47e04c10dce1",
   "metadata": {},
   "outputs": [
    {
     "ename": "ModuleNotFoundError",
     "evalue": "No module named 'flask_cors'",
     "output_type": "error",
     "traceback": [
      "\u001b[1;31m---------------------------------------------------------------------------\u001b[0m",
      "\u001b[1;31mModuleNotFoundError\u001b[0m                       Traceback (most recent call last)",
      "Cell \u001b[1;32mIn[5], line 2\u001b[0m\n\u001b[0;32m      1\u001b[0m \u001b[38;5;28;01mfrom\u001b[39;00m \u001b[38;5;21;01mflask\u001b[39;00m \u001b[38;5;28;01mimport\u001b[39;00m Flask, request, jsonify\n\u001b[1;32m----> 2\u001b[0m \u001b[38;5;28;01mfrom\u001b[39;00m \u001b[38;5;21;01mflask_cors\u001b[39;00m \u001b[38;5;28;01mimport\u001b[39;00m CORS\n\u001b[0;32m      3\u001b[0m \u001b[38;5;28;01mfrom\u001b[39;00m \u001b[38;5;21;01mpymongo\u001b[39;00m \u001b[38;5;28;01mimport\u001b[39;00m MongoClient\n\u001b[0;32m      5\u001b[0m app \u001b[38;5;241m=\u001b[39m Flask(\u001b[38;5;18m__name__\u001b[39m)\n",
      "\u001b[1;31mModuleNotFoundError\u001b[0m: No module named 'flask_cors'"
     ]
    }
   ],
   "source": [
    "from flask import Flask, request, jsonify\n",
    "from flask_cors import CORS\n",
    "from pymongo import MongoClient\n",
    "\n",
    "app = Flask(__name__)\n",
    "CORS(app)\n",
    "\n",
    "client = MongoClient('mongodb://localhost:27017/')\n",
    "db = client['glob_library']\n",
    "collection = db['resources']\n",
    "\n",
    "@app.route('/add-resource', methods=['POST'])\n",
    "def add_resource():\n",
    "    data = request.json\n",
    "    collection.insert_one(data)\n",
    "    return jsonify({\"message\": \"Resource added successfully!\"}), 201\n",
    "\n",
    "@app.route('/get-resources', methods=['GET'])\n",
    "def get_resources():\n",
    "    resources = list(collection.find({}, {\"_id\": 0}))\n",
    "    return jsonify(resources), 200\n",
    "\n",
    "@app.route('/search', methods=['GET'])\n",
    "def search_resources():\n",
    "    keyword = request.args.get('keyword', '')\n",
    "    results = list(collection.find({\"$text\": {\"$search\": keyword}}, {\"_id\": 0}))\n",
    "    return jsonify(results), 200\n",
    "\n",
    "@app.route('/recommend', methods=['POST'])\n",
    "def recommend():\n",
    "    user_preferences = request.json.get(\"preferences\", [])\n",
    "    recommendations = list(collection.find({\"tags\": {\"$in\": user_preferences}}, {\"_id\": 0}))\n",
    "    return jsonify(recommendations), 200\n",
    "\n",
    "if __name__ == '__main__':\n",
    "    app.run(debug=True)\n"
   ]
  },
  {
   "cell_type": "code",
   "execution_count": null,
   "id": "edb83225-7b34-41e8-9edb-4cdc9cb82ea6",
   "metadata": {},
   "outputs": [],
   "source": []
  }
 ],
 "metadata": {
  "kernelspec": {
   "display_name": "Python 3 (ipykernel)",
   "language": "python",
   "name": "python3"
  },
  "language_info": {
   "codemirror_mode": {
    "name": "ipython",
    "version": 3
   },
   "file_extension": ".py",
   "mimetype": "text/x-python",
   "name": "python",
   "nbconvert_exporter": "python",
   "pygments_lexer": "ipython3",
   "version": "3.12.4"
  }
 },
 "nbformat": 4,
 "nbformat_minor": 5
}
